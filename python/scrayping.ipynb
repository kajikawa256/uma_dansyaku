{
 "cells": [
  {
   "cell_type": "markdown",
   "metadata": {},
   "source": [
    "ライブラリのインポート"
   ]
  },
  {
   "cell_type": "code",
   "execution_count": 8,
   "metadata": {},
   "outputs": [],
   "source": [
    "import requests\n",
    "from bs4 import BeautifulSoup\n",
    "import re\n",
    "import time\n",
    "from datetime import datetime, timedelta"
   ]
  },
  {
   "cell_type": "markdown",
   "metadata": {},
   "source": [
    "定数宣言"
   ]
  },
  {
   "cell_type": "code",
   "execution_count": 9,
   "metadata": {},
   "outputs": [],
   "source": [
    "HOWTIME = 36      #開催回数\n",
    "HOWDAYS = 12      #１開催につき何日目\n",
    "RACENUM = 12      #１日何レースか\n",
    "\n",
    "#開催場コード\n",
    "SAPORO = \"01\"     #札幌\n",
    "HAKODATE = \"02\"   #函館\n",
    "HUKUSHIMA = \"03\"  #福島\n",
    "NIGATA = \"04\"     #新潟\n",
    "TOKYO = \"05\"      #東京\n",
    "NAKAYAMA = \"06\"   #中山\n",
    "TYUKYO = \"07\"     #中京\n",
    "KYOTO = \"08\"      #京都\n",
    "HANSHIN = \"09\"    #阪神\n",
    "OGURA = \"10\"      #小倉\n",
    "\n",
    "#上記のコードをまとめたリスト\n",
    "race_venue_list = [\n",
    "  SAPORO,HAKODATE,HUKUSHIMA,NIGATA,TOKYO,NAKAYAMA,TYUKYO,KYOTO,HANSHIN,OGURA\n",
    "  ]"
   ]
  },
  {
   "cell_type": "code",
   "execution_count": null,
   "metadata": {},
   "outputs": [],
   "source": [
    "def scrayping():\n",
    "  #現在の日付を取得\n",
    "  current_date = datetime.now()\n",
    "\n",
    "  #変数宣言\n",
    "  year = \"2023\"\n",
    "  race_id_list = [[[]]]  #[開催場,開催回,何日目][レース番号][馬番(着順)]\n",
    "  race_id = \"\"\n",
    "  error = \"true\"\n",
    "  result_list = []\n",
    "  result_ranking = {}\n",
    "\n",
    "  #指定した年から現在の日付までの全レースを取得\n",
    "  for where in race_venue_list:\n",
    "    error = \"true\"\n",
    "    for howtime in range(HOWTIME):\n",
    "      for howdays in range(HOWDAYS):\n",
    "        for race_num in range(RACENUM):\n",
    "          #文字に変換\n",
    "          ht = str(howtime+1)\n",
    "          hd = str(howdays+1)\n",
    "          rn = str(race_num+1)\n",
    "          race_id = year + where + ('0' + ht if len(ht) != 2 else ht) + ('0' + hd if len(hd) != 2 else hd) + ('0' + rn if len(rn) != 2 else rn)\n",
    "\n",
    "          #URLを作成\n",
    "          url = f\"https://race.netkeiba.com/race/result.html?race_id={race_id}&rf=race_list\"\n",
    "\n",
    "          #スクレイピング\n",
    "          res = requests.get(url)\n",
    "          res.encoding = \"EUC-JP\"\n",
    "          soup = BeautifulSoup(res.text, \"html.parser\")\n",
    "          list = soup.find_all(\"table\")\n",
    "          title = soup.find_all(\"title\")\n",
    "\n",
    "          #正常にスクレイピングが行われた場合\n",
    "          if list != []:\n",
    "            list = list[0].text\n",
    "            list = list.split()\n",
    "            title = title[0].text\n",
    "            #1秒待つ\n",
    "            time.sleep(0.1)\n",
    "\n",
    "            # #上位５馬とレースタイトル表示\n",
    "            z = 14\n",
    "            for x in range (5):\n",
    "              for y in range (2):\n",
    "                if x == 0:\n",
    "                  print(f\"{list[3 + z + y]}\",end=' ')\n",
    "                  result_list.append(list[3 + z + y])\n",
    "                else:\n",
    "                  print(f\"{list[2 + z + y]}\",end=' ')\n",
    "                  result_list.append(list[2 + z + y])\n",
    "              z+=15\n",
    "\n",
    "            #改行\n",
    "            print()\n",
    "            print()\n",
    "\n",
    "            result_ranking[race_id] = result_list\n",
    "\n",
    "            print(result_ranking)\n",
    "            print(result_list)\n",
    "\n",
    "          else:\n",
    "            error = \"false\"\n",
    "            break\n",
    "          result_list = []\n",
    "\n",
    "        if error == \"false\" :\n",
    "          break\n",
    "\n",
    "      if error == \"false\" :\n",
    "              break\n",
    "    return result_ranking\n",
    "\n"
   ]
  }
 ],
 "metadata": {
  "kernelspec": {
   "display_name": "Python 3",
   "language": "python",
   "name": "python3"
  },
  "language_info": {
   "codemirror_mode": {
    "name": "ipython",
    "version": 3
   },
   "file_extension": ".py",
   "mimetype": "text/x-python",
   "name": "python",
   "nbconvert_exporter": "python",
   "pygments_lexer": "ipython3",
   "version": "3.11.1"
  }
 },
 "nbformat": 4,
 "nbformat_minor": 2
}
