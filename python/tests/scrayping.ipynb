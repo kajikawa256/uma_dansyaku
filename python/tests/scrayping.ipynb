{
 "cells": [
  {
   "cell_type": "markdown",
   "metadata": {},
   "source": [
    "ライブラリのインポート"
   ]
  },
  {
   "cell_type": "code",
   "execution_count": 2,
   "metadata": {},
   "outputs": [],
   "source": [
    "import requests\n",
    "from bs4 import BeautifulSoup\n",
    "import re\n",
    "import time\n",
    "from datetime import datetime, timedelta\n",
    "from operator import itemgetter as it"
   ]
  },
  {
   "cell_type": "markdown",
   "metadata": {},
   "source": [
    "定数宣言"
   ]
  },
  {
   "cell_type": "code",
   "execution_count": 3,
   "metadata": {},
   "outputs": [],
   "source": [
    "HOWTIME = 36      #開催回数\n",
    "HOWDAYS = 12      #１開催につき何日目\n",
    "RACENUM = 12      #１日何レースか\n",
    "\n",
    "#開催場コード\n",
    "SAPORO = \"01\"     #札幌\n",
    "HAKODATE = \"02\"   #函館\n",
    "HUKUSHIMA = \"03\"  #福島\n",
    "NIGATA = \"04\"     #新潟\n",
    "TOKYO = \"05\"      #東京\n",
    "NAKAYAMA = \"06\"   #中山\n",
    "TYUKYO = \"07\"     #中京\n",
    "KYOTO = \"08\"      #京都\n",
    "HANSHIN = \"09\"    #阪神\n",
    "OGURA = \"10\"      #小倉\n",
    "\n",
    "#上記のコードをまとめたリスト\n",
    "race_venue_list = [\n",
    "  SAPORO,HAKODATE,HUKUSHIMA,NIGATA,TOKYO,NAKAYAMA,TYUKYO,KYOTO,HANSHIN,OGURA\n",
    "  ]"
   ]
  },
  {
   "cell_type": "code",
   "execution_count": 21,
   "metadata": {},
   "outputs": [
    {
     "name": "stdout",
     "output_type": "stream",
     "text": [
      "[['単勝', '5', '120円', '1人気', '複勝', '5', '8', '6', '100円110円310円', '2人気1人気6人気', '馬連', '5', '8', '170円', '1人気'], ['ワイド', '5', '8', '5', '6', '6', '8', '120円600円880円', '1人気8人気11人気', '馬単', '5', '8', '210円', '1人気', '3連複', '5', '6', '8', '1,120円', '4人気', '3連単', '5', '8', '6', '2,680円', '9人気']]\n"
     ]
    },
    {
     "ename": "KeyboardInterrupt",
     "evalue": "",
     "output_type": "error",
     "traceback": [
      "\u001b[1;31m---------------------------------------------------------------------------\u001b[0m",
      "\u001b[1;31mKeyboardInterrupt\u001b[0m                         Traceback (most recent call last)",
      "\u001b[1;32mc:\\Sites\\uma_dansyaku\\python\\tests\\scrayping.ipynb セル 5\u001b[0m line \u001b[0;36m1\n\u001b[0;32m    <a href='vscode-notebook-cell:/c%3A/Sites/uma_dansyaku/python/tests/scrayping.ipynb#W4sZmlsZQ%3D%3D?line=109'>110</a>\u001b[0m   \u001b[39mreturn\u001b[39;00m total_info\n\u001b[0;32m    <a href='vscode-notebook-cell:/c%3A/Sites/uma_dansyaku/python/tests/scrayping.ipynb#W4sZmlsZQ%3D%3D?line=111'>112</a>\u001b[0m \u001b[39m#関数呼び出し\u001b[39;00m\n\u001b[1;32m--> <a href='vscode-notebook-cell:/c%3A/Sites/uma_dansyaku/python/tests/scrayping.ipynb#W4sZmlsZQ%3D%3D?line=112'>113</a>\u001b[0m scrayping()\n",
      "\u001b[1;32mc:\\Sites\\uma_dansyaku\\python\\tests\\scrayping.ipynb セル 5\u001b[0m line \u001b[0;36m7\n\u001b[0;32m     <a href='vscode-notebook-cell:/c%3A/Sites/uma_dansyaku/python/tests/scrayping.ipynb#W4sZmlsZQ%3D%3D?line=67'>68</a>\u001b[0m \u001b[39mprint\u001b[39m(pay_list)\n\u001b[0;32m     <a href='vscode-notebook-cell:/c%3A/Sites/uma_dansyaku/python/tests/scrayping.ipynb#W4sZmlsZQ%3D%3D?line=68'>69</a>\u001b[0m   \u001b[39m# print(tables[x].text.strip().split()[index])\u001b[39;00m\n\u001b[0;32m     <a href='vscode-notebook-cell:/c%3A/Sites/uma_dansyaku/python/tests/scrayping.ipynb#W4sZmlsZQ%3D%3D?line=69'>70</a>\u001b[0m \n\u001b[0;32m     <a href='vscode-notebook-cell:/c%3A/Sites/uma_dansyaku/python/tests/scrayping.ipynb#W4sZmlsZQ%3D%3D?line=70'>71</a>\u001b[0m \u001b[39m# print(tables[0].text.strip().split()[0])\u001b[39;00m\n\u001b[1;32m   (...)\u001b[0m\n\u001b[0;32m     <a href='vscode-notebook-cell:/c%3A/Sites/uma_dansyaku/python/tests/scrayping.ipynb#W4sZmlsZQ%3D%3D?line=73'>74</a>\u001b[0m \n\u001b[0;32m     <a href='vscode-notebook-cell:/c%3A/Sites/uma_dansyaku/python/tests/scrayping.ipynb#W4sZmlsZQ%3D%3D?line=74'>75</a>\u001b[0m \u001b[39m#1秒待つ\u001b[39;00m\n\u001b[1;32m---> <a href='vscode-notebook-cell:/c%3A/Sites/uma_dansyaku/python/tests/scrayping.ipynb#W4sZmlsZQ%3D%3D?line=75'>76</a>\u001b[0m time\u001b[39m.\u001b[39;49msleep(\u001b[39m1\u001b[39;49m)\n\u001b[0;32m     <a href='vscode-notebook-cell:/c%3A/Sites/uma_dansyaku/python/tests/scrayping.ipynb#W4sZmlsZQ%3D%3D?line=79'>80</a>\u001b[0m \u001b[39m#各辞書型の配列にリストを格納する\u001b[39;00m\n\u001b[0;32m     <a href='vscode-notebook-cell:/c%3A/Sites/uma_dansyaku/python/tests/scrayping.ipynb#W4sZmlsZQ%3D%3D?line=80'>81</a>\u001b[0m result_ranking[race_id] \u001b[39m=\u001b[39m result_list\n",
      "\u001b[1;31mKeyboardInterrupt\u001b[0m: "
     ]
    }
   ],
   "source": [
    "import requests\n",
    "import pandas as pd\n",
    "from bs4 import BeautifulSoup\n",
    "import re\n",
    "# import scrayping\n",
    "import time\n",
    "from datetime import datetime, timedelta\n",
    "\n",
    "\n",
    "def scrayping():\n",
    "  #変数宣言\n",
    "  year = \"2023\"        #任意の年数\n",
    "  race_id = \"\"         #宣言\n",
    "  error = \"true\"       #エラーフラグ\n",
    "  result_list = []     #result_rankingの子要素\n",
    "  race_list = []       #race_infoの子要素\n",
    "  pay_list = []        #result_payの子要素\n",
    "  result_ranking = {}  #total_infoの子要素\n",
    "  race_info = {}       #total_infoの子要素\n",
    "  resulut_pay = {}     #total_infoの子要素\n",
    "  total_info = []      #すべてまとめたリスト\n",
    "\n",
    "  #指定した年から現在の日付までの全レースを取得\n",
    "  for where in race_venue_list:\n",
    "    error = \"true\"\n",
    "    for howtime in range(HOWTIME):\n",
    "      for howdays in range(HOWDAYS):\n",
    "        for race_num in range(RACENUM):\n",
    "\n",
    "          #文字に変換\n",
    "          ht = str(howtime+1)\n",
    "          hd = str(howdays+1)\n",
    "          rn = str(race_num+1)\n",
    "\n",
    "          #1桁の数字を0付きの2桁の数字に変換\n",
    "          race_id = year + where + ('0' + ht if len(ht) != 2 else ht) + ('0' + hd if len(hd) != 2 else hd) + ('0' + rn if len(rn) != 2 else rn)\n",
    "\n",
    "          #URLを作成\n",
    "          url = f\"https://race.netkeiba.com/race/result.html?race_id={race_id}&rf=race_list\"\n",
    "\n",
    "          #スクレイピング\n",
    "          res = requests.get(url)\n",
    "          res.encoding = \"EUC-JP\"\n",
    "          soup = BeautifulSoup(res.text, \"html.parser\")\n",
    "          \n",
    "          list = soup.find_all(\"table\")\n",
    "          title = soup.find_all(\"title\")\n",
    "\n",
    "          #正常にスクレイピングが行われた場合（ここの条件式は変更の余地あり）\n",
    "          if list != []:\n",
    "\n",
    "\n",
    "            #1秒待つ\n",
    "            time.sleep(1)\n",
    "\n",
    "\n",
    "\n",
    "            #各辞書型の配列にリストを格納する\n",
    "            result_ranking[race_id] = result_list\n",
    "            race_info[race_id] = race_list\n",
    "            resulut_pay[race_id] = pay_list\n",
    "\n",
    "\n",
    "          else:\n",
    "            error = \"false\"\n",
    "            break\n",
    "          #親要素に追加したら初期化\n",
    "          result_list = []\n",
    "          race_list = []\n",
    "          pay_list = []\n",
    "          # print()\n",
    "        if error == \"false\" :\n",
    "          break\n",
    "      if error == \"false\" :\n",
    "        break\n",
    "\n",
    "  #スクレイピングしたデータをすべてtotal_infoに格納\n",
    "  total_info.append(result_ranking)\n",
    "  total_info.append(race_info)\n",
    "  total_info.append(resulut_pay)\n",
    "\n",
    "  #呼び出し元に渡す\n",
    "  return total_info\n",
    "\n",
    "#関数呼び出し\n",
    "scrayping()\n",
    "\n"
   ]
  }
 ],
 "metadata": {
  "kernelspec": {
   "display_name": "Python 3",
   "language": "python",
   "name": "python3"
  },
  "language_info": {
   "codemirror_mode": {
    "name": "ipython",
    "version": 3
   },
   "file_extension": ".py",
   "mimetype": "text/x-python",
   "name": "python",
   "nbconvert_exporter": "python",
   "pygments_lexer": "ipython3",
   "version": "3.11.1"
  }
 },
 "nbformat": 4,
 "nbformat_minor": 2
}
