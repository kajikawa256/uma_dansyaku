{
 "cells": [
  {
   "cell_type": "markdown",
   "metadata": {},
   "source": [
    "ライブラリインポート"
   ]
  },
  {
   "cell_type": "code",
   "execution_count": 2,
   "metadata": {},
   "outputs": [
    {
     "ename": "ModuleNotFoundError",
     "evalue": "No module named 'slearn'",
     "output_type": "error",
     "traceback": [
      "\u001b[1;31m---------------------------------------------------------------------------\u001b[0m",
      "\u001b[1;31mModuleNotFoundError\u001b[0m                       Traceback (most recent call last)",
      "\u001b[1;32mc:\\Users\\2220216\\Desktop\\uma_dansyaku\\study\\study_learning.ipynb セル 2\u001b[0m line \u001b[0;36m5\n\u001b[0;32m      <a href='vscode-notebook-cell:/c%3A/Users/2220216/Desktop/uma_dansyaku/study/study_learning.ipynb#W0sZmlsZQ%3D%3D?line=2'>3</a>\u001b[0m \u001b[39mfrom\u001b[39;00m \u001b[39mtqdm\u001b[39;00m \u001b[39mimport\u001b[39;00m tqdm\n\u001b[0;32m      <a href='vscode-notebook-cell:/c%3A/Users/2220216/Desktop/uma_dansyaku/study/study_learning.ipynb#W0sZmlsZQ%3D%3D?line=3'>4</a>\u001b[0m \u001b[39mimport\u001b[39;00m \u001b[39mlightgbm\u001b[39;00m \u001b[39mas\u001b[39;00m \u001b[39mlgb\u001b[39;00m\n\u001b[1;32m----> <a href='vscode-notebook-cell:/c%3A/Users/2220216/Desktop/uma_dansyaku/study/study_learning.ipynb#W0sZmlsZQ%3D%3D?line=4'>5</a>\u001b[0m \u001b[39mfrom\u001b[39;00m \u001b[39mslearn\u001b[39;00m\u001b[39m.\u001b[39;00m\u001b[39mmetrics\u001b[39;00m \u001b[39mimport\u001b[39;00m accuracy_score, precision_score,recall_score, f1_score\n",
      "\u001b[1;31mModuleNotFoundError\u001b[0m: No module named 'slearn'"
     ]
    }
   ],
   "source": [
    "import pandas as pd\n",
    "from sklearn import preprocessing\n",
    "from tqdm import tqdm\n",
    "import lightgbm as lgb\n",
    "from slearn.metrics import accuracy_score, precision_score,recall_score, f1_score\n"
   ]
  },
  {
   "cell_type": "markdown",
   "metadata": {},
   "source": [
    "データセットの前処理"
   ]
  },
  {
   "cell_type": "code",
   "execution_count": null,
   "metadata": {},
   "outputs": [],
   "source": [
    "#データセットのロード\n",
    "dataset = pd.read_pickle('./data/dataset.pkl')\n",
    "#使用する列名を指定\n",
    " #使用する列名を指定\n",
    "resultCol = [\n",
    "    '日付','raceId','枠番','馬番','horseId','性','年齢','斤量',\n",
    "    'jokeyId','単勝','人気','trainerId','拠点','馬体重','体重増減',\n",
    "    '出走間隔','ハンデ','着順','R','コース種','コース回り','距離','天気',\n",
    "    '馬場','開催場所','グレード','制限'\n",
    "]\n",
    "recordCol = [\n",
    "    'R','頭数','枠番','馬番','単勝','人気','着順','jockeyId','斤量',\n",
    "    'タイム','着差','上り','馬体重','体重増減','出走間隔','コース種',\n",
    "    'コース回り','距離','天気','馬場','開催場所','グレード','制限','ハンデ'\n",
    "]\n",
    "pedCol = ['pedId_' + str(i) for i in range(0,62)]\n",
    "#前N走分戦績の列名を生成\n",
    "recordCol9 = []\n",
    "for i in range(1, 10):\n",
    "    tmpList = list(map(lambda x: x + '_' + str(i), recordCol))\n",
    "    recordCol9 += tmpList\n",
    "#列名を合体\n",
    "COLUMNS = resultCol + recordCol9 + pedCol\n",
    "#データセット\n",
    "dataset = dataset[COLUMNS]"
   ]
  },
  {
   "cell_type": "code",
   "execution_count": null,
   "metadata": {},
   "outputs": [],
   "source": [
    "#ラベルエンコーディング関数の定義\n",
    "def labelEncode(df, target, recflg=False):\n",
    "    #複数列のラベルエンコーディング関数の定義\n",
    "    def listEncoder(tdf, le, cols):\n",
    "        #データフレームのコピー\n",
    "        tdf_ = tdf.copy()\n",
    "        #列名から値を取り出す\n",
    "        encoList = []\n",
    "        for col in cols:\n",
    "            encoList += tdf_[col].unique().tolist()\n",
    "        #エンコーダーを生成\n",
    "        le.fit(encoList)\n",
    "        #複数列分ループ\n",
    "        for col in tqdm(cols, desc=cols[0]):\n",
    "            #欠損データ以外の列を取り出す\n",
    "            notNull = tdf_[col][tdf_[col].notnull()]\n",
    "            #エンコード実行してindexをキーにデータフレームに書き込む\n",
    "            tdf_[col] = pd.Series(le.transform(notNull), index=notNull.index)\n",
    "            #エンコードした列はcategory列に変換\n",
    "            tdf_[col] = tdf_[col].astype('category')\n",
    "        return tdf_, le\n",
    "    #データフレームのコピー\n",
    "    tdf = df.copy()\n",
    "    #ラベルエンコーダーをインスタンス\n",
    "    le = preprocessing.LabelEncoder()\n",
    "    #戦績かどうかで分岐\n",
    "    if not recflg:\n",
    "        #リストかどうかで分岐\n",
    "        if type(target) == list:\n",
    "            #エンコーダーの生成\n",
    "            le.fit(tdf[target])\n",
    "            #欠損データ以外の列を取り出す\n",
    "            notNull = tdf[target][tdf[target].notnull()]\n",
    "            #エンコード実行してindexをキーにデータフレームに書き込む\n",
    "            tdf[target] = pd.Series(le.transform(notNull), index=notNull.index)\n",
    "            #エンコードした列はcategory列に変換\n",
    "            tdf[target] = tdf[target].astype('category')\n",
    "        else:\n",
    "            #戦績以外で複数データだったら複数列エンコードの実行\n",
    "            tdf, le = listEncoder(tdf, le, target)\n",
    "    else:\n",
    "        #戦績データは列名にサフィックスを付与したリストを生成\n",
    "        cols9 = [target] + [target + '_' + str(i) for i in range(1, 10)]\n",
    "        #複数列エンコードの実行\n",
    "        tdf, le = listEncoder(tdf, le, cols9)\n",
    "    #データフレームとエンコーダーをreeturn\n",
    "    return tdf, le\n",
    "\n",
    "#データフレームコピー\n",
    "df = dataset.copy()\n",
    "#カテゴリ変数をラベルエンコード\n",
    "horseList = ['horseId'] + ['pedId_' + str(i) for i in range(0,62)]\n",
    "df, leHorse = labelEncode(df,horseList)\n",
    "df, leGender = labelEncode(df,'性')\n",
    "df, leTrainer = labelEncode(df,'trainerId')\n",
    "df, leHomeBase = labelEncode(df,'拠点')\n",
    "df, lejockey = labelEncode(df,'jockeyId',recflg=True)\n",
    "df, leHandi = labelEncode(df,'ハンデ',recflg=True)\n",
    "df, leType = labelEncode(df,'コース種',recflg=True)\n",
    "df, leDir = labelEncode(df,'コース回り',recflg=True)\n",
    "df, leWether = labelEncode(df,'天気',recflg=True)\n",
    "df, leCondition = labelEncode(df,'馬場',recflg=True)\n",
    "df, lePlace = labelEncode(df,'開催場所',recflg=True)\n",
    "df, leGrade = labelEncode(df,'グレード', recflg=True)\n",
    "df, leRegulation = labelEncode(df,'制限',recflg=True)\n",
    "#量的変数の列名を生成\n",
    "numericCols = ['年齢']\n",
    "cols1 = ['枠番','馬番','単勝','人気','斤量','馬体重',\n",
    "         '体重増減','出走間隔','着順','R','距離']\n",
    "cols2 = ['頭数','着順','タイム','着差','上り']\n",
    "numericCols += cols1\n",
    "cols3 =cols1 + cols2\n",
    "for i in range(1,10):\n",
    "    numericCols += map(lambda x: x + '_' + str(i),cols3)\n",
    "#量的変数に対して片変数を実行\n",
    "for col in tqdm(numericCols):\n",
    "    df[col] = df[col].astype(float)\n",
    "    "
   ]
  },
  {
   "cell_type": "markdown",
   "metadata": {},
   "source": [
    "学習実行"
   ]
  },
  {
   "cell_type": "code",
   "execution_count": null,
   "metadata": {},
   "outputs": [],
   "source": [
    "#着順から正解列を生成\n",
    "df['Accu'] = df['着順'].map(lambda x: 1 if x <= 3 else 0)\n",
    "#日付をキーに訓練データと検証データに分割\n",
    "sepdt = '2022/01/01'\n",
    "train = df[df['日付']<sepdt]\n",
    "test = df[df['日付']>=sepdt]"
   ]
  },
  {
   "cell_type": "code",
   "execution_count": null,
   "metadata": {},
   "outputs": [],
   "source": [
    "#それぞれ教師データと訓練データに分割\n",
    "train_x = train.drop(['日付','着順','raceId','Accu'],axis=1)\n",
    "train_y = train['Accu']\n",
    "test_x = train.drop(['日付','着順','raceId','Accu'],axis=1)\n",
    "test_y = train['Accu']"
   ]
  },
  {
   "cell_type": "code",
   "execution_count": null,
   "metadata": {},
   "outputs": [],
   "source": [
    "#モデルをインスタンスして学習の実行\n",
    "model = lgb.LGBMClassifier()\n",
    "model.fit(train_x,train_y)"
   ]
  },
  {
   "cell_type": "markdown",
   "metadata": {},
   "source": [
    "学習モデルの評価\n",
    "Accuracy score:単純正解率。\n",
    "0を0と予測したものも正解とカウントさてるから単純に全部0と予想しても7割ぐらいの正解率になるからなし\n",
    "\n",
    "Precision score:精度。1に分類したものが実際に1だった割合\n",
    "Recall score:検出率。1のものを1として分類できた割合\n",
    "F1 score:PrecisionとRecallを複合したスコア"
   ]
  },
  {
   "cell_type": "code",
   "execution_count": null,
   "metadata": {},
   "outputs": [],
   "source": [
    "#検証データに対して予測実行\n",
    "prad = model.predict(test_x)\n",
    "#各種評価スコアの表示\n",
    "print('Accuracy score\\t: {}'.format(accuracy_score(prad,test_y)))\n",
    "print('Precision score\\t: {}'.format(precision_score(prad,test_y)))\n",
    "print('Recall score\\t: {}'.format(recall_score(prad,test_y)))\n",
    "print('F1 score\\t: {}'.format(f1_score(prad,test_y)))\n"
   ]
  }
 ],
 "metadata": {
  "kernelspec": {
   "display_name": "Python 3",
   "language": "python",
   "name": "python3"
  },
  "language_info": {
   "codemirror_mode": {
    "name": "ipython",
    "version": 3
   },
   "file_extension": ".py",
   "mimetype": "text/x-python",
   "name": "python",
   "nbconvert_exporter": "python",
   "pygments_lexer": "ipython3",
   "version": "3.9.13"
  }
 },
 "nbformat": 4,
 "nbformat_minor": 2
}
