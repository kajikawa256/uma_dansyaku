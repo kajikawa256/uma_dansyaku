{
 "cells": [
  {
   "cell_type": "markdown",
   "metadata": {},
   "source": [
    "ライブラリインポート"
   ]
  },
  {
   "cell_type": "code",
   "execution_count": 1,
   "metadata": {},
   "outputs": [],
   "source": [
    "import pandas as pd\n",
    "from tqdm import tqdm\n",
    "import os\n",
    "import datetime"
   ]
  },
  {
   "cell_type": "markdown",
   "metadata": {},
   "source": [
    "pickleファイルからロード"
   ]
  },
  {
   "cell_type": "code",
   "execution_count": 2,
   "metadata": {},
   "outputs": [
    {
     "ename": "FileNotFoundError",
     "evalue": "[Errno 2] No such file or directory: './data/horse_result.pkl'",
     "output_type": "error",
     "traceback": [
      "\u001b[1;31m---------------------------------------------------------------------------\u001b[0m",
      "\u001b[1;31mFileNotFoundError\u001b[0m                         Traceback (most recent call last)",
      "\u001b[1;32mc:\\Users\\2220216\\Desktop\\uma_dansyaku\\study\\dataset.ipynb セル 4\u001b[0m line \u001b[0;36m4\n\u001b[0;32m      <a href='vscode-notebook-cell:/c%3A/Users/2220216/Desktop/uma_dansyaku/study/dataset.ipynb#W3sZmlsZQ%3D%3D?line=1'>2</a>\u001b[0m dfRaceResult \u001b[39m=\u001b[39m pd\u001b[39m.\u001b[39mread_pickle(\u001b[39m'\u001b[39m\u001b[39m./data/race_result.pkl\u001b[39m\u001b[39m'\u001b[39m)\n\u001b[0;32m      <a href='vscode-notebook-cell:/c%3A/Users/2220216/Desktop/uma_dansyaku/study/dataset.ipynb#W3sZmlsZQ%3D%3D?line=2'>3</a>\u001b[0m dfRaceInfo \u001b[39m=\u001b[39m pd\u001b[39m.\u001b[39mread_pickle(\u001b[39m'\u001b[39m\u001b[39m./data/race_Info.pkl\u001b[39m\u001b[39m'\u001b[39m)\n\u001b[1;32m----> <a href='vscode-notebook-cell:/c%3A/Users/2220216/Desktop/uma_dansyaku/study/dataset.ipynb#W3sZmlsZQ%3D%3D?line=3'>4</a>\u001b[0m dfHorseResult \u001b[39m=\u001b[39m pd\u001b[39m.\u001b[39;49mread_pickle(\u001b[39m'\u001b[39;49m\u001b[39m./data/horse_result.pkl\u001b[39;49m\u001b[39m'\u001b[39;49m)\n\u001b[0;32m      <a href='vscode-notebook-cell:/c%3A/Users/2220216/Desktop/uma_dansyaku/study/dataset.ipynb#W3sZmlsZQ%3D%3D?line=4'>5</a>\u001b[0m dfHorsePed \u001b[39m=\u001b[39m pd\u001b[39m.\u001b[39mread_pickle(\u001b[39m'\u001b[39m\u001b[39m./data/horse_ped.pkl\u001b[39m\u001b[39m'\u001b[39m)\n\u001b[0;32m      <a href='vscode-notebook-cell:/c%3A/Users/2220216/Desktop/uma_dansyaku/study/dataset.ipynb#W3sZmlsZQ%3D%3D?line=5'>6</a>\u001b[0m \u001b[39m#レース結果と競馬戦績にレース情報を結合\u001b[39;00m\n",
      "File \u001b[1;32m~\\AppData\\Local\\Packages\\PythonSoftwareFoundation.Python.3.9_qbz5n2kfra8p0\\LocalCache\\local-packages\\Python39\\site-packages\\pandas\\io\\pickle.py:189\u001b[0m, in \u001b[0;36mread_pickle\u001b[1;34m(filepath_or_buffer, compression, storage_options)\u001b[0m\n\u001b[0;32m    125\u001b[0m \u001b[39m\u001b[39m\u001b[39m\"\"\"\u001b[39;00m\n\u001b[0;32m    126\u001b[0m \u001b[39mLoad pickled pandas object (or any object) from file.\u001b[39;00m\n\u001b[0;32m    127\u001b[0m \n\u001b[1;32m   (...)\u001b[0m\n\u001b[0;32m    186\u001b[0m \u001b[39m4    4    9\u001b[39;00m\n\u001b[0;32m    187\u001b[0m \u001b[39m\"\"\"\u001b[39;00m\n\u001b[0;32m    188\u001b[0m excs_to_catch \u001b[39m=\u001b[39m (\u001b[39mAttributeError\u001b[39;00m, \u001b[39mImportError\u001b[39;00m, \u001b[39mModuleNotFoundError\u001b[39;00m, \u001b[39mTypeError\u001b[39;00m)\n\u001b[1;32m--> 189\u001b[0m \u001b[39mwith\u001b[39;00m get_handle(\n\u001b[0;32m    190\u001b[0m     filepath_or_buffer,\n\u001b[0;32m    191\u001b[0m     \u001b[39m\"\u001b[39;49m\u001b[39mrb\u001b[39;49m\u001b[39m\"\u001b[39;49m,\n\u001b[0;32m    192\u001b[0m     compression\u001b[39m=\u001b[39;49mcompression,\n\u001b[0;32m    193\u001b[0m     is_text\u001b[39m=\u001b[39;49m\u001b[39mFalse\u001b[39;49;00m,\n\u001b[0;32m    194\u001b[0m     storage_options\u001b[39m=\u001b[39;49mstorage_options,\n\u001b[0;32m    195\u001b[0m ) \u001b[39mas\u001b[39;00m handles:\n\u001b[0;32m    196\u001b[0m     \u001b[39m# 1) try standard library Pickle\u001b[39;00m\n\u001b[0;32m    197\u001b[0m     \u001b[39m# 2) try pickle_compat (older pandas version) to handle subclass changes\u001b[39;00m\n\u001b[0;32m    198\u001b[0m     \u001b[39m# 3) try pickle_compat with latin-1 encoding upon a UnicodeDecodeError\u001b[39;00m\n\u001b[0;32m    200\u001b[0m     \u001b[39mtry\u001b[39;00m:\n\u001b[0;32m    201\u001b[0m         \u001b[39m# TypeError for Cython complaints about object.__new__ vs Tick.__new__\u001b[39;00m\n\u001b[0;32m    202\u001b[0m         \u001b[39mtry\u001b[39;00m:\n",
      "File \u001b[1;32m~\\AppData\\Local\\Packages\\PythonSoftwareFoundation.Python.3.9_qbz5n2kfra8p0\\LocalCache\\local-packages\\Python39\\site-packages\\pandas\\io\\common.py:872\u001b[0m, in \u001b[0;36mget_handle\u001b[1;34m(path_or_buf, mode, encoding, compression, memory_map, is_text, errors, storage_options)\u001b[0m\n\u001b[0;32m    863\u001b[0m         handle \u001b[39m=\u001b[39m \u001b[39mopen\u001b[39m(\n\u001b[0;32m    864\u001b[0m             handle,\n\u001b[0;32m    865\u001b[0m             ioargs\u001b[39m.\u001b[39mmode,\n\u001b[1;32m   (...)\u001b[0m\n\u001b[0;32m    868\u001b[0m             newline\u001b[39m=\u001b[39m\u001b[39m\"\u001b[39m\u001b[39m\"\u001b[39m,\n\u001b[0;32m    869\u001b[0m         )\n\u001b[0;32m    870\u001b[0m     \u001b[39melse\u001b[39;00m:\n\u001b[0;32m    871\u001b[0m         \u001b[39m# Binary mode\u001b[39;00m\n\u001b[1;32m--> 872\u001b[0m         handle \u001b[39m=\u001b[39m \u001b[39mopen\u001b[39;49m(handle, ioargs\u001b[39m.\u001b[39;49mmode)\n\u001b[0;32m    873\u001b[0m     handles\u001b[39m.\u001b[39mappend(handle)\n\u001b[0;32m    875\u001b[0m \u001b[39m# Convert BytesIO or file objects passed with an encoding\u001b[39;00m\n",
      "\u001b[1;31mFileNotFoundError\u001b[0m: [Errno 2] No such file or directory: './data/horse_result.pkl'"
     ]
    }
   ],
   "source": [
    "#pickleデータロード\n",
    "dfRaceResult = pd.read_pickle('./data/race_result.pkl')\n",
    "dfRaceInfo = pd.read_pickle('./data/race_Info.pkl')\n",
    "dfHorseResult = pd.read_pickle('./data/horse_result.pkl')\n",
    "dfHorsePed = pd.read_pickle('./data/horse_ped.pkl')\n",
    "#レース結果と競馬戦績にレース情報を結合\n",
    "dfRaceResulti = pd.merge(left=dfRaceResult,right=dfRaceInfo,\n",
    "                        how='left', on='raceId',suffixes=['','_i'])\n",
    "dfHorseResulti = pd.merge(left=dfHorseResult,right=dfRaceInfo,\n",
    "                        how='left', on='raceId',suffixes=['','_i'])\n",
    "#戦績テーブルからゴミを除外\n",
    "df = dfHorseResulti.copy()\n",
    "columns = []\n",
    "for cn in df.columns:\n",
    "    if '_i' not in cn:\n",
    "        columns.append(cn)\n",
    "dfHorseResulti = df[columns]\n"
   ]
  },
  {
   "cell_type": "markdown",
   "metadata": {},
   "source": [
    "レース結果テーブルに成績を結合"
   ]
  },
  {
   "cell_type": "code",
   "execution_count": null,
   "metadata": {},
   "outputs": [],
   "source": [
    "#空のデータフレームを生成\n",
    "dfRaceResultH = pd.DataFrame(columns=['horseId','日付'])\n",
    "#pickleファイルの存在チェック\n",
    "if(os.path.isfile('./data/race_result_add_record.pkl')):\n",
    "    #読み込む\n",
    "    dfRaceResultH = pd.read_pickle('./data/race_result_add_record.pkl')\n",
    "\n",
    "#レースを日付降順にソートする\n",
    "dfHorseResulti = dfHorseResulti.sort_values(('日付'),ascending=False)\n",
    "\n",
    "indexList = dfRaceResulti.index\n",
    "escapeList = dfRaceResultH.index\n",
    "#一時撤退用データフレームを初期化\n",
    "saveDf = pd.DataFrame(columns=dfRaceResultH.columns)\n",
    "\n",
    "#レース結果のテーブルを1行ずつ取り出す\n",
    "for cnt, rowIndex in tqdm(enumerate(indexList), total = len(indexList)):\n",
    "    #既に処理済みのレコードだったらスキップ\n",
    "    if rowIndex in escapeList:\n",
    "        continue\n",
    "    try:\n",
    "        #レース結果から1行分のデータを取り出す\n",
    "        rowDf = dfRaceResulti.loc[dfRaceResulti.index==rowIndex]\n",
    "        #horseIdと日付を取り出す\n",
    "        horseId = rowDf['horseId'].iloc[0]\n",
    "        dt = rowDf['日付'].iloc[0]\n",
    "\n",
    "        #horseIdで絞込レース結果の日付以来の直近9レース分をループ処理実行\n",
    "        for idx,tmpDf in \\\n",
    "            enumerate(dfHorseResulti[(dfHorseResulti['HorseId']==horseId)&\\\n",
    "                                     (dfHorseResulti['日付']<dt)].head(9).iterrows()):\n",
    "            idxx = idx+1\n",
    "            tmpDfx = pd.DataFrame(tmpDf[1]).T\n",
    "            #列名にループ回数でサフィックスを付加\n",
    "            tmpDfx.columns = tmpDfx.columns + '_' + str(idxx)\n",
    "            #結合の為にidexを合わせる\n",
    "            tmpDfx.index = rowDf.index\n",
    "            #結合の実行\n",
    "            rowDf = pd.concat([saveDf, rowDf], axis=0)\n",
    "        #1行分のレコードを一時テーブルに結合\n",
    "        saveDf = pd.concat([saveDf, rowDf], axis=0)\n",
    "        #2000回に一度本体のテーブルに結合して一時テーブルを空にする\n",
    "        if cnt % 2000 == 0:\n",
    "            dfRaceResultH = pd.concat([dfRaceResultH, saveDf], axis=0)\n",
    "            saveDf = pd.DataFrame(columns=dfRaceResultH.columns)\n",
    "    except:\n",
    "        break\n",
    "dfRaceResultH = pd.concat([dfRaceResultH, saveDf], axis=0)\n",
    "dfRaceResultH.to_pickle('./data/race_result_add_record.pkl')"
   ]
  },
  {
   "cell_type": "markdown",
   "metadata": {},
   "source": [
    "出走間隔を計算"
   ]
  },
  {
   "cell_type": "code",
   "execution_count": null,
   "metadata": {},
   "outputs": [],
   "source": [
    "df = pd.read_pickle('./data/race_result_add_record.pkl')\n",
    "#スカラー関数の定義\n",
    "def CalcInterval(x):\n",
    "    try:\n",
    "        interval = datetime.datetime.strptime(x['日付'], '%Y/%m/%d')-\\\n",
    "                    datetime.datetime.strptime(x['日付_1'], '%Y/%m/%d')\n",
    "        return interval.days\n",
    "    except:\n",
    "        return 0\n",
    "#apply関数で一括処理\n",
    "df['出走間隔'] = df.apply(CalcInterval, axis=1)"
   ]
  },
  {
   "cell_type": "markdown",
   "metadata": {},
   "source": [
    "レース結果に血統データを結合"
   ]
  },
  {
   "cell_type": "code",
   "execution_count": null,
   "metadata": {},
   "outputs": [],
   "source": [
    "dfRaceResultP = pd.merge(left=df, right=dfHorsePed, how='left', on='horseId')\n",
    "dfRaceResultP.to_pickle('.data/dataset.pkl')"
   ]
  }
 ],
 "metadata": {
  "kernelspec": {
   "display_name": "Python 3",
   "language": "python",
   "name": "python3"
  },
  "language_info": {
   "codemirror_mode": {
    "name": "ipython",
    "version": 3
   },
   "file_extension": ".py",
   "mimetype": "text/x-python",
   "name": "python",
   "nbconvert_exporter": "python",
   "pygments_lexer": "ipython3",
   "version": "3.9.13"
  }
 },
 "nbformat": 4,
 "nbformat_minor": 2
}
