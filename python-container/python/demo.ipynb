{
 "cells": [
  {
   "cell_type": "code",
   "execution_count": 11,
   "metadata": {},
   "outputs": [],
   "source": [
    "import predict_runtime as prre\n"
   ]
  },
  {
   "cell_type": "code",
   "execution_count": 12,
   "metadata": {},
   "outputs": [
    {
     "name": "stdout",
     "output_type": "stream",
     "text": [
      "   RUN_TIME  DISTANCE  WEIGHT  HORSE_TOTAL  PRIZE  HORSE_WEIGHT  \\\n",
      "0      73.1      1200    55.0           16    500           474   \n",
      "1      73.9      1200    54.0           16    500           474   \n",
      "2      74.1      1200    54.0           16    500           454   \n",
      "3      74.5      1200    51.0           16    500           458   \n",
      "4      74.5      1200    55.0           16    500           466   \n",
      "\n",
      "   WEIGHT_GAIN_LOSS GENDER GRADE PLACE WEATHER GROUND SPIN SITUATION  \n",
      "0                -6      牡   未勝利    中山       曇    ダート    右        稍重  \n",
      "1                -4      牝   未勝利    中山       曇    ダート    右        稍重  \n",
      "2                10      牝   未勝利    中山       曇    ダート    右        稍重  \n",
      "3               -12      牝   未勝利    中山       曇    ダート    右        稍重  \n",
      "4                 0      牡   未勝利    中山       曇    ダート    右        稍重  \n"
     ]
    }
   ],
   "source": [
    "a = prre.Main()\n",
    "b = a.pred_runtime('201606050901')"
   ]
  }
 ],
 "metadata": {
  "kernelspec": {
   "display_name": "Python 3",
   "language": "python",
   "name": "python3"
  },
  "language_info": {
   "codemirror_mode": {
    "name": "ipython",
    "version": 3
   },
   "file_extension": ".py",
   "mimetype": "text/x-python",
   "name": "python",
   "nbconvert_exporter": "python",
   "pygments_lexer": "ipython3",
   "version": "3.9.13"
  }
 },
 "nbformat": 4,
 "nbformat_minor": 2
}
